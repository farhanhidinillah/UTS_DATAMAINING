{
 "cells": [
  {
   "cell_type": "markdown",
   "id": "8f44fee2-7b42-4db5-b9bb-12a7d506d2d6",
   "metadata": {},
   "source": [
    "DATA"
   ]
  },
  {
   "cell_type": "code",
   "execution_count": null,
   "id": "f3723769-87ba-4756-a718-a80ea7ebbf81",
   "metadata": {},
   "outputs": [],
   "source": [
    "company_detail_list = {\n",
    "      'Company 1': {\n",
    "          'name': 'Company 1',\n",
    "          'domain': 'Retail',\n",
    "          'clients': [\n",
    "              {\n",
    "                  'name': 'acme.inc',\n",
    "                  'country': 'united states'\n",
    "              },\n",
    "              {\n",
    "                  'name': 'Wayne.co',\n",
    "                  'country': 'united states'\n",
    "              }\n",
    "          ]\n",
    "      },\n",
    "      'Company 2': {\n",
    "          'name': 'Company 2',\n",
    "          'domain': 'Construction',\n",
    "          'clients': [\n",
    "              {\n",
    "                  'name': 'Tesla',\n",
    "                  'country': 'united states'\n",
    "              },\n",
    "              {\n",
    "                  'name': 'Japan Airlines',\n",
    "                  'country': 'japan'\n",
    "              },\n",
    "              {\n",
    "                  'name': 'Indofood',\n",
    "                  'country': 'indonesia'\n",
    "              }\n",
    "          ]\n",
    "      },\n",
    "      'Company 3': {\n",
    "          'name': 'Company 3',\n",
    "          'domain': 'Healthcare',\n",
    "          'clients': [\n",
    "              {\n",
    "                  'name': 'Petronas',\n",
    "                  'country': 'malaysia'\n",
    "              },\n",
    "              {\n",
    "                  'name': 'VW Group',\n",
    "                  'country': 'germany'\n",
    "              },\n",
    "              {\n",
    "                  'name': 'IBM',\n",
    "                  'country': 'united states'\n",
    "              },\n",
    "              {\n",
    "                  'name': 'Mitsubishi',\n",
    "                  'country': 'japan'\n",
    "              }\n",
    "          ]\n",
    "      }\n",
    "  } \n",
    "employee_detail_list = {\n",
    "      'John Doe': {\n",
    "          'name': 'EMP-0001',\n",
    "          'first_name': 'John',\n",
    "          'last_name': 'Doe',\n",
    "          'full_name': 'John Doe',\n",
    "          'company': 'Company 1'\n",
    "      },\n",
    "      'Tom Smith': {\n",
    "          'name': 'EMP-0002',\n",
    "          'first_name': 'Tom',\n",
    "          'last_name': 'Smith',\n",
    "          'full_name': 'Tom Smith',\n",
    "          'company': 'Company 2'\n",
    "      },\n",
    "      'Andrew Sebastian': {\n",
    "          'name': 'EMP-0003',\n",
    "          'first_name': 'Andrew',\n",
    "          'last_name': 'Sebastian',\n",
    "          'full_name': 'Andrew Sebastian',\n",
    "          'company': 'Company 2'\n",
    "      },\n",
    "  }\n"
   ]
  },
  {
   "cell_type": "markdown",
   "id": "8d22e9bf-6d74-4ea2-bfa6-7a51d12b8336",
   "metadata": {},
   "source": [
    "SOAL 1"
   ]
  },
  {
   "cell_type": "code",
   "execution_count": 35,
   "id": "07e2bd6d-b48d-44a7-b04c-84e846cf1873",
   "metadata": {},
   "outputs": [
    {
     "name": "stdout",
     "output_type": "stream",
     "text": [
      "Name: Company 1\n",
      "Domain: Retail\n",
      "\n",
      "Name: Company 2\n",
      "Domain: Construction\n",
      "\n",
      "Name: Company 3\n",
      "Domain: Healthcare\n",
      "\n"
     ]
    }
   ],
   "source": [
    "def sort_company():\n",
    "    for company_name, company_detail in company_detail_list.items():\n",
    "        print(\"Name:\", company_detail['name'])\n",
    "        print(\"Domain:\", company_detail['domain'])\n",
    "        print()\n",
    "\n",
    "# Memanggil fungsi untuk mencetak detail perusahaan\n",
    "sort_company()"
   ]
  },
  {
   "cell_type": "markdown",
   "id": "4e075b73-8bb8-4c6e-ba76-bf812672705e",
   "metadata": {},
   "source": [
    "SOAl 2"
   ]
  },
  {
   "cell_type": "code",
   "execution_count": 32,
   "id": "e9b16fe4-b0b0-4ec2-9dd6-7b3827c16b79",
   "metadata": {},
   "outputs": [
    {
     "name": "stdout",
     "output_type": "stream",
     "text": [
      "Company 1: Retail, relation: 2 clients\n",
      "Company 2: Construction, relation: 3 clients\n",
      "Company 3: Healthcare, relation: 4 clients\n"
     ]
    }
   ],
   "source": [
    "\n",
    "def get_company_domain():\n",
    "    for company_name, company_detail in company_detail_list.items():\n",
    "        num_clients = len(company_detail['clients'])\n",
    "        print(f\"{company_name}: {company_detail['domain']}, relation: {num_clients} clients\")\n",
    "\n",
    "# Memanggil fungsi untuk mencetak detail perusahaan\n",
    "get_company_domain()\n"
   ]
  },
  {
   "cell_type": "code",
   "execution_count": null,
   "id": "0b8f8c42-d05e-4fad-bc54-76247e38afa9",
   "metadata": {},
   "outputs": [],
   "source": [
    "SOAL 3"
   ]
  },
  {
   "cell_type": "code",
   "execution_count": 39,
   "id": "75fd53c1-5310-46fa-95b6-d47f0951fb7d",
   "metadata": {},
   "outputs": [
    {
     "name": "stdout",
     "output_type": "stream",
     "text": [
      "\"full_name\": \"John Doe\", \"company\": \"Company 1\", \"domain\": \"Retail\"\n",
      "\"full_name\": \"Tom Smith\", \"company\": \"Company 2\", \"domain\": \"Construction\"\n",
      "\"full_name\": \"Andrew Sebastian\", \"company\": \"Company 2\", \"domain\": \"Construction\"\n"
     ]
    }
   ],
   "source": [
    "def print_employee_company_domain():\n",
    "    for employee_name, employee_detail in employee_detail_list.items():\n",
    "        company_name = employee_detail['company']\n",
    "        company_domain = company_detail_list[company_name]['domain']\n",
    "        full_name = employee_detail['full_name']\n",
    "        print(f'\"full_name\": \"{full_name}\", \"company\": \"{company_name}\", \"domain\": \"{company_domain}\"')\n",
    "\n",
    "# Memanggil fungsi untuk mencetak detail karyawan, perusahaan, dan domain\n",
    "print_employee_company_domain()"
   ]
  },
  {
   "cell_type": "markdown",
   "id": "23ba6017-7554-4dde-8ea0-b20199c612f3",
   "metadata": {},
   "source": [
    "Soal pre-processing data"
   ]
  },
  {
   "cell_type": "code",
   "execution_count": 43,
   "id": "dd0ea4fa-c5ff-4a98-a9b1-0984a6add5d3",
   "metadata": {},
   "outputs": [],
   "source": [
    "import pandas as pd\n",
    "import numpy as np\n",
    "\n",
    "from sklearn.preprocessing import LabelEncoder, OneHotEncoder, StandardScaler\n",
    "from sklearn.impute import SimpleImputer\n",
    "from sklearn.compose import ColumnTransformer "
   ]
  },
  {
   "cell_type": "code",
   "execution_count": 44,
   "id": "85a2126d-c7f8-46dc-bcdb-ea4783a12514",
   "metadata": {},
   "outputs": [],
   "source": [
    "data = pd.read_csv('50_Startups.csv')"
   ]
  },
  {
   "cell_type": "code",
   "execution_count": 45,
   "id": "9e266a95-5e53-4550-b857-2bd955e2bbe0",
   "metadata": {},
   "outputs": [
    {
     "data": {
      "text/html": [
       "<div>\n",
       "<style scoped>\n",
       "    .dataframe tbody tr th:only-of-type {\n",
       "        vertical-align: middle;\n",
       "    }\n",
       "\n",
       "    .dataframe tbody tr th {\n",
       "        vertical-align: top;\n",
       "    }\n",
       "\n",
       "    .dataframe thead th {\n",
       "        text-align: right;\n",
       "    }\n",
       "</style>\n",
       "<table border=\"1\" class=\"dataframe\">\n",
       "  <thead>\n",
       "    <tr style=\"text-align: right;\">\n",
       "      <th></th>\n",
       "      <th>R&amp;D Spend</th>\n",
       "      <th>Administration</th>\n",
       "      <th>Marketing Spend</th>\n",
       "      <th>State</th>\n",
       "      <th>Profit</th>\n",
       "    </tr>\n",
       "  </thead>\n",
       "  <tbody>\n",
       "    <tr>\n",
       "      <th>0</th>\n",
       "      <td>165349.20</td>\n",
       "      <td>136897.80</td>\n",
       "      <td>471784.10</td>\n",
       "      <td>New York</td>\n",
       "      <td>192261.83</td>\n",
       "    </tr>\n",
       "    <tr>\n",
       "      <th>1</th>\n",
       "      <td>162597.70</td>\n",
       "      <td>151377.59</td>\n",
       "      <td>443898.53</td>\n",
       "      <td>California</td>\n",
       "      <td>191792.06</td>\n",
       "    </tr>\n",
       "    <tr>\n",
       "      <th>2</th>\n",
       "      <td>153441.51</td>\n",
       "      <td>101145.55</td>\n",
       "      <td>407934.54</td>\n",
       "      <td>Florida</td>\n",
       "      <td>191050.39</td>\n",
       "    </tr>\n",
       "    <tr>\n",
       "      <th>3</th>\n",
       "      <td>144372.41</td>\n",
       "      <td>118671.85</td>\n",
       "      <td>383199.62</td>\n",
       "      <td>New York</td>\n",
       "      <td>182901.99</td>\n",
       "    </tr>\n",
       "    <tr>\n",
       "      <th>4</th>\n",
       "      <td>142107.34</td>\n",
       "      <td>91391.77</td>\n",
       "      <td>366168.42</td>\n",
       "      <td>Florida</td>\n",
       "      <td>166187.94</td>\n",
       "    </tr>\n",
       "    <tr>\n",
       "      <th>5</th>\n",
       "      <td>131876.90</td>\n",
       "      <td>99814.71</td>\n",
       "      <td>362861.36</td>\n",
       "      <td>New York</td>\n",
       "      <td>156991.12</td>\n",
       "    </tr>\n",
       "    <tr>\n",
       "      <th>6</th>\n",
       "      <td>134615.46</td>\n",
       "      <td>147198.87</td>\n",
       "      <td>127716.82</td>\n",
       "      <td>California</td>\n",
       "      <td>156122.51</td>\n",
       "    </tr>\n",
       "  </tbody>\n",
       "</table>\n",
       "</div>"
      ],
      "text/plain": [
       "   R&D Spend  Administration  Marketing Spend       State     Profit\n",
       "0  165349.20       136897.80        471784.10    New York  192261.83\n",
       "1  162597.70       151377.59        443898.53  California  191792.06\n",
       "2  153441.51       101145.55        407934.54     Florida  191050.39\n",
       "3  144372.41       118671.85        383199.62    New York  182901.99\n",
       "4  142107.34        91391.77        366168.42     Florida  166187.94\n",
       "5  131876.90        99814.71        362861.36    New York  156991.12\n",
       "6  134615.46       147198.87        127716.82  California  156122.51"
      ]
     },
     "execution_count": 45,
     "metadata": {},
     "output_type": "execute_result"
    }
   ],
   "source": [
    "data.head(7)"
   ]
  },
  {
   "cell_type": "markdown",
   "id": "db6b1f2a-94e8-43f6-838a-41d588ea3cc0",
   "metadata": {},
   "source": [
    "1. Lakukan analisa mengenai field mana saja yang memiliki data kosong(Nan) lalu Isi data yang kosong tersebut menggunakan nilai mean"
   ]
  },
  {
   "cell_type": "code",
   "execution_count": 47,
   "id": "6dc1ffcf-b14c-4545-8c99-2ca6d6d92e7c",
   "metadata": {},
   "outputs": [
    {
     "data": {
      "text/plain": [
       "array([[165349.2, 136897.8, 471784.1, 'New York', 192261.83],\n",
       "       [162597.7, 151377.59, 443898.53, 'California', 191792.06],\n",
       "       [153441.51, 101145.55, 407934.54, 'Florida', 191050.39],\n",
       "       [144372.41, 118671.85, 383199.62, 'New York', 182901.99],\n",
       "       [142107.34, 91391.77, 366168.42, 'Florida', 166187.94],\n",
       "       [131876.9, 99814.71, 362861.36, 'New York', 156991.12],\n",
       "       [134615.46, 147198.87, 127716.82, 'California', 156122.51]],\n",
       "      dtype=object)"
      ]
     },
     "execution_count": 47,
     "metadata": {},
     "output_type": "execute_result"
    }
   ],
   "source": [
    "X = data.head(7).values\n",
    "X"
   ]
  },
  {
   "cell_type": "code",
   "execution_count": null,
   "id": "015c7e98-e402-4ef4-a845-be3ba35ea8ef",
   "metadata": {},
   "outputs": [],
   "source": [
    "imputer = SimpleImputer(missing_values=np.nan, strategy='mean')\n",
    "imputer.fit(X[:, 1:])\n",
    "X[:, 1:] = imputer.transform(X[:, 1:])"
   ]
  },
  {
   "cell_type": "code",
   "execution_count": 56,
   "id": "d7b0e5ff-999f-43b8-acbb-82ac02be67ce",
   "metadata": {},
   "outputs": [
    {
     "data": {
      "text/plain": [
       "array([[0.0, 0.0, 0.0, 0.0, 0.0, 0.0, 1.0, 136897.8, 471784.1,\n",
       "        'New York', 192261.83],\n",
       "       [0.0, 0.0, 0.0, 0.0, 0.0, 1.0, 0.0, 151377.59, 443898.53,\n",
       "        'California', 191792.06],\n",
       "       [0.0, 0.0, 0.0, 0.0, 1.0, 0.0, 0.0, 101145.55, 407934.54,\n",
       "        'Florida', 191050.39],\n",
       "       [0.0, 0.0, 0.0, 1.0, 0.0, 0.0, 0.0, 118671.85, 383199.62,\n",
       "        'New York', 182901.99],\n",
       "       [0.0, 0.0, 1.0, 0.0, 0.0, 0.0, 0.0, 91391.77, 366168.42,\n",
       "        'Florida', 166187.94],\n",
       "       [1.0, 0.0, 0.0, 0.0, 0.0, 0.0, 0.0, 99814.71, 362861.36,\n",
       "        'New York', 156991.12],\n",
       "       [0.0, 1.0, 0.0, 0.0, 0.0, 0.0, 0.0, 147198.87, 127716.82,\n",
       "        'California', 156122.51]], dtype=object)"
      ]
     },
     "execution_count": 56,
     "metadata": {},
     "output_type": "execute_result"
    }
   ],
   "source": [
    "X"
   ]
  },
  {
   "cell_type": "markdown",
   "id": "ce923d9e-b038-4b47-8ea1-c0822af3425b",
   "metadata": {},
   "source": [
    " oneHotEncoder ke field state"
   ]
  },
  {
   "cell_type": "markdown",
   "id": "1d887dbe-3489-4878-9464-e3bac6518065",
   "metadata": {},
   "source": [
    "OneHOtEncode"
   ]
  },
  {
   "cell_type": "code",
   "execution_count": 68,
   "id": "62e0ef4a-a9ad-4d31-9481-0927daf85be5",
   "metadata": {},
   "outputs": [
    {
     "data": {
      "text/plain": [
       "array([[1.0, 0.0, 0.0, 0.0, 0.0, 0.0, 0.0, 1.0, 136897.8, 471784.1, 2,\n",
       "        192261.83],\n",
       "       [1.0, 0.0, 0.0, 0.0, 0.0, 0.0, 1.0, 0.0, 151377.59, 443898.53, 0,\n",
       "        191792.06],\n",
       "       [1.0, 0.0, 0.0, 0.0, 0.0, 1.0, 0.0, 0.0, 101145.55, 407934.54, 1,\n",
       "        191050.39],\n",
       "       [1.0, 0.0, 0.0, 0.0, 1.0, 0.0, 0.0, 0.0, 118671.85, 383199.62, 2,\n",
       "        182901.99],\n",
       "       [1.0, 0.0, 0.0, 1.0, 0.0, 0.0, 0.0, 0.0, 91391.77, 366168.42, 1,\n",
       "        166187.94],\n",
       "       [0.0, 1.0, 0.0, 0.0, 0.0, 0.0, 0.0, 0.0, 99814.71, 362861.36, 2,\n",
       "        156991.12],\n",
       "       [1.0, 0.0, 1.0, 0.0, 0.0, 0.0, 0.0, 0.0, 147198.87, 127716.82, 0,\n",
       "        156122.51]], dtype=object)"
      ]
     },
     "execution_count": 68,
     "metadata": {},
     "output_type": "execute_result"
    }
   ],
   "source": [
    "label_encoder = LabelEncoder()\n",
    "X[:, -2] =label_encoder.fit_transform(X[:,-2])\n",
    "X"
   ]
  },
  {
   "cell_type": "code",
   "execution_count": 69,
   "id": "85113784-587c-4b2a-be93-061c3426b887",
   "metadata": {},
   "outputs": [
    {
     "data": {
      "text/html": [
       "<div>\n",
       "<style scoped>\n",
       "    .dataframe tbody tr th:only-of-type {\n",
       "        vertical-align: middle;\n",
       "    }\n",
       "\n",
       "    .dataframe tbody tr th {\n",
       "        vertical-align: top;\n",
       "    }\n",
       "\n",
       "    .dataframe thead th {\n",
       "        text-align: right;\n",
       "    }\n",
       "</style>\n",
       "<table border=\"1\" class=\"dataframe\">\n",
       "  <thead>\n",
       "    <tr style=\"text-align: right;\">\n",
       "      <th></th>\n",
       "      <th>0</th>\n",
       "      <th>1</th>\n",
       "      <th>2</th>\n",
       "      <th>3</th>\n",
       "      <th>4</th>\n",
       "      <th>5</th>\n",
       "      <th>6</th>\n",
       "      <th>7</th>\n",
       "      <th>8</th>\n",
       "      <th>9</th>\n",
       "      <th>10</th>\n",
       "      <th>11</th>\n",
       "      <th>12</th>\n",
       "    </tr>\n",
       "  </thead>\n",
       "  <tbody>\n",
       "    <tr>\n",
       "      <th>0</th>\n",
       "      <td>0.0</td>\n",
       "      <td>1.0</td>\n",
       "      <td>0.0</td>\n",
       "      <td>0.0</td>\n",
       "      <td>0.0</td>\n",
       "      <td>0.0</td>\n",
       "      <td>0.0</td>\n",
       "      <td>0.0</td>\n",
       "      <td>1.0</td>\n",
       "      <td>136897.8</td>\n",
       "      <td>471784.1</td>\n",
       "      <td>2</td>\n",
       "      <td>192261.83</td>\n",
       "    </tr>\n",
       "    <tr>\n",
       "      <th>1</th>\n",
       "      <td>0.0</td>\n",
       "      <td>1.0</td>\n",
       "      <td>0.0</td>\n",
       "      <td>0.0</td>\n",
       "      <td>0.0</td>\n",
       "      <td>0.0</td>\n",
       "      <td>0.0</td>\n",
       "      <td>1.0</td>\n",
       "      <td>0.0</td>\n",
       "      <td>151377.59</td>\n",
       "      <td>443898.53</td>\n",
       "      <td>0</td>\n",
       "      <td>191792.06</td>\n",
       "    </tr>\n",
       "    <tr>\n",
       "      <th>2</th>\n",
       "      <td>0.0</td>\n",
       "      <td>1.0</td>\n",
       "      <td>0.0</td>\n",
       "      <td>0.0</td>\n",
       "      <td>0.0</td>\n",
       "      <td>0.0</td>\n",
       "      <td>1.0</td>\n",
       "      <td>0.0</td>\n",
       "      <td>0.0</td>\n",
       "      <td>101145.55</td>\n",
       "      <td>407934.54</td>\n",
       "      <td>1</td>\n",
       "      <td>191050.39</td>\n",
       "    </tr>\n",
       "    <tr>\n",
       "      <th>3</th>\n",
       "      <td>0.0</td>\n",
       "      <td>1.0</td>\n",
       "      <td>0.0</td>\n",
       "      <td>0.0</td>\n",
       "      <td>0.0</td>\n",
       "      <td>1.0</td>\n",
       "      <td>0.0</td>\n",
       "      <td>0.0</td>\n",
       "      <td>0.0</td>\n",
       "      <td>118671.85</td>\n",
       "      <td>383199.62</td>\n",
       "      <td>2</td>\n",
       "      <td>182901.99</td>\n",
       "    </tr>\n",
       "    <tr>\n",
       "      <th>4</th>\n",
       "      <td>0.0</td>\n",
       "      <td>1.0</td>\n",
       "      <td>0.0</td>\n",
       "      <td>0.0</td>\n",
       "      <td>1.0</td>\n",
       "      <td>0.0</td>\n",
       "      <td>0.0</td>\n",
       "      <td>0.0</td>\n",
       "      <td>0.0</td>\n",
       "      <td>91391.77</td>\n",
       "      <td>366168.42</td>\n",
       "      <td>1</td>\n",
       "      <td>166187.94</td>\n",
       "    </tr>\n",
       "    <tr>\n",
       "      <th>5</th>\n",
       "      <td>1.0</td>\n",
       "      <td>0.0</td>\n",
       "      <td>1.0</td>\n",
       "      <td>0.0</td>\n",
       "      <td>0.0</td>\n",
       "      <td>0.0</td>\n",
       "      <td>0.0</td>\n",
       "      <td>0.0</td>\n",
       "      <td>0.0</td>\n",
       "      <td>99814.71</td>\n",
       "      <td>362861.36</td>\n",
       "      <td>2</td>\n",
       "      <td>156991.12</td>\n",
       "    </tr>\n",
       "    <tr>\n",
       "      <th>6</th>\n",
       "      <td>0.0</td>\n",
       "      <td>1.0</td>\n",
       "      <td>0.0</td>\n",
       "      <td>1.0</td>\n",
       "      <td>0.0</td>\n",
       "      <td>0.0</td>\n",
       "      <td>0.0</td>\n",
       "      <td>0.0</td>\n",
       "      <td>0.0</td>\n",
       "      <td>147198.87</td>\n",
       "      <td>127716.82</td>\n",
       "      <td>0</td>\n",
       "      <td>156122.51</td>\n",
       "    </tr>\n",
       "  </tbody>\n",
       "</table>\n",
       "</div>"
      ],
      "text/plain": [
       "    0    1    2    3    4    5    6    7    8          9          10 11  \\\n",
       "0  0.0  1.0  0.0  0.0  0.0  0.0  0.0  0.0  1.0   136897.8   471784.1  2   \n",
       "1  0.0  1.0  0.0  0.0  0.0  0.0  0.0  1.0  0.0  151377.59  443898.53  0   \n",
       "2  0.0  1.0  0.0  0.0  0.0  0.0  1.0  0.0  0.0  101145.55  407934.54  1   \n",
       "3  0.0  1.0  0.0  0.0  0.0  1.0  0.0  0.0  0.0  118671.85  383199.62  2   \n",
       "4  0.0  1.0  0.0  0.0  1.0  0.0  0.0  0.0  0.0   91391.77  366168.42  1   \n",
       "5  1.0  0.0  1.0  0.0  0.0  0.0  0.0  0.0  0.0   99814.71  362861.36  2   \n",
       "6  0.0  1.0  0.0  1.0  0.0  0.0  0.0  0.0  0.0  147198.87  127716.82  0   \n",
       "\n",
       "          12  \n",
       "0  192261.83  \n",
       "1  191792.06  \n",
       "2  191050.39  \n",
       "3  182901.99  \n",
       "4  166187.94  \n",
       "5  156991.12  \n",
       "6  156122.51  "
      ]
     },
     "execution_count": 69,
     "metadata": {},
     "output_type": "execute_result"
    }
   ],
   "source": [
    "one_hot_encoder = OneHotEncoder(categories=X[0])\n",
    "ct = ColumnTransformer([(\"Name_Of_Your_Step\", OneHotEncoder(),[0])], remainder=\"passthrough\")\n",
    "X = ct.fit_transform(X)\n",
    "# X = one_hot_encoder.fit_transform(X).toarray()\n",
    "df = pd.DataFrame(X)\n",
    "df"
   ]
  },
  {
   "cell_type": "code",
   "execution_count": 70,
   "id": "71b2b963-3423-410f-a67e-e2e81b6a0a20",
   "metadata": {},
   "outputs": [
    {
     "data": {
      "text/plain": [
       "array([[     0,      1,      0,      0,      0,      0,      0,      0,\n",
       "             1, 136897, 471784,      2, 192261],\n",
       "       [     0,      1,      0,      0,      0,      0,      0,      1,\n",
       "             0, 151377, 443898,      0, 191792],\n",
       "       [     0,      1,      0,      0,      0,      0,      1,      0,\n",
       "             0, 101145, 407934,      1, 191050],\n",
       "       [     0,      1,      0,      0,      0,      1,      0,      0,\n",
       "             0, 118671, 383199,      2, 182901],\n",
       "       [     0,      1,      0,      0,      1,      0,      0,      0,\n",
       "             0,  91391, 366168,      1, 166187],\n",
       "       [     1,      0,      1,      0,      0,      0,      0,      0,\n",
       "             0,  99814, 362861,      2, 156991],\n",
       "       [     0,      1,      0,      1,      0,      0,      0,      0,\n",
       "             0, 147198, 127716,      0, 156122]])"
      ]
     },
     "execution_count": 70,
     "metadata": {},
     "output_type": "execute_result"
    }
   ],
   "source": [
    "X=X.astype(int)\n",
    "X"
   ]
  },
  {
   "cell_type": "markdown",
   "id": "459f51e4-165c-459f-9cf8-70ed0e6cb940",
   "metadata": {},
   "source": [
    "buat field baru yaitu Tax. dimana Tax = (profit + Marketing Spend + administration) * 5%"
   ]
  },
  {
   "cell_type": "code",
   "execution_count": 74,
   "id": "ccaaa12c-0f1b-45bc-84cf-e4c73c096327",
   "metadata": {},
   "outputs": [
    {
     "name": "stdout",
     "output_type": "stream",
     "text": [
      "0     40047.1865\n",
      "1     39353.4090\n",
      "2     35006.5240\n",
      "3     34238.6730\n",
      "4     31187.4065\n",
      "5     30983.3595\n",
      "6     21551.9100\n",
      "7            NaN\n",
      "8     30627.2005\n",
      "9     28171.0375\n",
      "10    24293.8505\n",
      "11    24289.7280\n",
      "12    25937.2670\n",
      "13           NaN\n",
      "14    27283.1495\n",
      "15    25715.5055\n",
      "16    25646.8270\n",
      "17    27651.1130\n",
      "18    26668.1130\n",
      "19           NaN\n",
      "20    26550.2900\n",
      "21    28241.1870\n",
      "22    26822.7130\n",
      "23           NaN\n",
      "24           NaN\n",
      "25    19246.0060\n",
      "26    19195.9795\n",
      "27    29302.8335\n",
      "28    20203.8070\n",
      "29    18058.7540\n",
      "30    15335.5055\n",
      "31           NaN\n",
      "32    13636.6350\n",
      "33    20723.5610\n",
      "34    23260.2195\n",
      "35    19352.2295\n",
      "36    20944.5610\n",
      "37           NaN\n",
      "38           NaN\n",
      "39    16949.3575\n",
      "40    18479.0815\n",
      "41    16349.0155\n",
      "42    15784.4615\n",
      "43    11633.7725\n",
      "44    12417.0595\n",
      "45     9549.1525\n",
      "46    23121.0710\n",
      "47           NaN\n",
      "48           NaN\n",
      "49     8841.9130\n",
      "dtype: float64\n"
     ]
    }
   ],
   "source": [
    "data = pd.read_csv('50_Startups.csv')\n",
    "data = (data['Profit'] + data['Marketing Spend'] + data['Administration']) * 0.05\n",
    "\n",
    "# Output data dengan field \"Tax\" baru\n",
    "print(data)"
   ]
  },
  {
   "cell_type": "markdown",
   "id": "8919d50e-cc03-4b21-9b43-dc70d02a83b3",
   "metadata": {},
   "source": [
    "Jalankan standardScaler field-field tersebut\n"
   ]
  },
  {
   "cell_type": "code",
   "execution_count": 71,
   "id": "a13847a2-e6c7-42ce-82a9-8f418daad730",
   "metadata": {},
   "outputs": [
    {
     "data": {
      "text/plain": [
       "array([[-4.08248290e-01,  4.08248290e-01, -4.08248290e-01,\n",
       "        -4.08248290e-01, -4.08248290e-01, -4.08248290e-01,\n",
       "        -4.08248290e-01, -4.08248290e-01,  2.44948974e+00,\n",
       "         7.05464447e-01,  1.01241071e+00,  1.02899151e+00,\n",
       "         1.01388803e+00],\n",
       "       [-4.08248290e-01,  4.08248290e-01, -4.08248290e-01,\n",
       "        -4.08248290e-01, -4.08248290e-01, -4.08248290e-01,\n",
       "        -4.08248290e-01,  2.44948974e+00, -4.08248290e-01,\n",
       "         1.34513199e+00,  7.44963007e-01, -1.37198868e+00,\n",
       "         9.83216238e-01],\n",
       "       [-4.08248290e-01,  4.08248290e-01, -4.08248290e-01,\n",
       "        -4.08248290e-01, -4.08248290e-01, -4.08248290e-01,\n",
       "         2.44948974e+00, -4.08248290e-01, -4.08248290e-01,\n",
       "        -8.73913600e-01,  4.00041214e-01, -1.71498585e-01,\n",
       "         9.34690723e-01],\n",
       "       [-4.08248290e-01,  4.08248290e-01, -4.08248290e-01,\n",
       "        -4.08248290e-01, -4.08248290e-01,  2.44948974e+00,\n",
       "        -4.08248290e-01, -4.08248290e-01, -4.08248290e-01,\n",
       "        -9.96861539e-02,  1.62813971e-01,  1.02899151e+00,\n",
       "         4.01760242e-01],\n",
       "       [-4.08248290e-01,  4.08248290e-01, -4.08248290e-01,\n",
       "        -4.08248290e-01,  2.44948974e+00, -4.08248290e-01,\n",
       "        -4.08248290e-01, -4.08248290e-01, -4.08248290e-01,\n",
       "        -1.30480567e+00, -5.26121235e-04, -1.71498585e-01,\n",
       "        -6.91306400e-01],\n",
       "       [ 2.44948974e+00, -2.44948974e+00,  2.44948974e+00,\n",
       "        -4.08248290e-01, -4.08248290e-01, -4.08248290e-01,\n",
       "        -4.08248290e-01, -4.08248290e-01, -4.08248290e-01,\n",
       "        -9.32711770e-01, -3.22427371e-02,  1.02899151e+00,\n",
       "        -1.29270887e+00],\n",
       "       [-4.08248290e-01,  4.08248290e-01, -4.08248290e-01,\n",
       "         2.44948974e+00, -4.08248290e-01, -4.08248290e-01,\n",
       "        -4.08248290e-01, -4.08248290e-01, -4.08248290e-01,\n",
       "         1.16052076e+00, -2.28746004e+00, -1.37198868e+00,\n",
       "        -1.34953996e+00]])"
      ]
     },
     "execution_count": 71,
     "metadata": {},
     "output_type": "execute_result"
    }
   ],
   "source": [
    "sc = StandardScaler()\n",
    "X = sc.fit_transform(X)\n",
    "X"
   ]
  },
  {
   "cell_type": "code",
   "execution_count": null,
   "id": "8f3e66cc-6c7f-4fb5-93e9-e0cd5577ac80",
   "metadata": {},
   "outputs": [],
   "source": []
  }
 ],
 "metadata": {
  "kernelspec": {
   "display_name": "Python 3 (ipykernel)",
   "language": "python",
   "name": "python3"
  },
  "language_info": {
   "codemirror_mode": {
    "name": "ipython",
    "version": 3
   },
   "file_extension": ".py",
   "mimetype": "text/x-python",
   "name": "python",
   "nbconvert_exporter": "python",
   "pygments_lexer": "ipython3",
   "version": "3.11.7"
  }
 },
 "nbformat": 4,
 "nbformat_minor": 5
}
